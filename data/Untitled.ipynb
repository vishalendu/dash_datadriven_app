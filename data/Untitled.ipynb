{
 "cells": [
  {
   "cell_type": "code",
   "execution_count": 1,
   "id": "5d4eba36",
   "metadata": {},
   "outputs": [],
   "source": [
    "import pandas as pd"
   ]
  },
  {
   "cell_type": "code",
   "execution_count": 23,
   "id": "0509fb86",
   "metadata": {},
   "outputs": [],
   "source": [
    "df1 = pd.read_csv('index.csv')\n",
    "df2 = pd.read_csv('details.csv')"
   ]
  },
  {
   "cell_type": "code",
   "execution_count": 24,
   "id": "7958e742",
   "metadata": {},
   "outputs": [
    {
     "data": {
      "text/plain": [
       "'Chile'"
      ]
     },
     "execution_count": 24,
     "metadata": {},
     "output_type": "execute_result"
    }
   ],
   "source": [
    "x = 'open2.n_clicks_timestamp'\n",
    "\n",
    "country = df1.iloc[int(x.split('.')[0][-1])]['country']\n",
    "country"
   ]
  },
  {
   "cell_type": "code",
   "execution_count": 32,
   "id": "592b1c42",
   "metadata": {},
   "outputs": [
    {
     "data": {
      "text/plain": [
       "[3, 4, 5]"
      ]
     },
     "execution_count": 32,
     "metadata": {},
     "output_type": "execute_result"
    }
   ],
   "source": [
    "df2[df2['country']==country]['context'].index.to_list()\n"
   ]
  },
  {
   "cell_type": "code",
   "execution_count": 34,
   "id": "f3eedbd9",
   "metadata": {},
   "outputs": [
    {
     "data": {
      "text/plain": [
       "[(1, 'sample Chile data1'),\n",
       " (2, 'sample Chile data2'),\n",
       " (3, 'sample Chile data3')]"
      ]
     },
     "execution_count": 34,
     "metadata": {},
     "output_type": "execute_result"
    }
   ],
   "source": [
    "[(df2.iloc[i]['context'],df2.iloc[i]['data']) for i in df2[df2['country']==country]['context'].index.to_list()]"
   ]
  },
  {
   "cell_type": "code",
   "execution_count": null,
   "id": "46e7d8a3",
   "metadata": {},
   "outputs": [],
   "source": []
  }
 ],
 "metadata": {
  "hide_input": false,
  "kernelspec": {
   "display_name": "Python 3",
   "language": "python",
   "name": "python3"
  },
  "language_info": {
   "codemirror_mode": {
    "name": "ipython",
    "version": 3
   },
   "file_extension": ".py",
   "mimetype": "text/x-python",
   "name": "python",
   "nbconvert_exporter": "python",
   "pygments_lexer": "ipython3",
   "version": "3.8.2"
  }
 },
 "nbformat": 4,
 "nbformat_minor": 5
}
